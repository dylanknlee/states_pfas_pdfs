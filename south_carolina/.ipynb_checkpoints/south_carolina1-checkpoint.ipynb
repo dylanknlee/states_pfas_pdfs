{
 "cells": [
  {
   "cell_type": "code",
   "execution_count": 1,
   "id": "3ab8d741",
   "metadata": {},
   "outputs": [],
   "source": [
    "import pandas as pd\n",
    "import numpy as np\n",
    "import camelot"
   ]
  },
  {
   "cell_type": "code",
   "execution_count": 2,
   "id": "af8a0375",
   "metadata": {},
   "outputs": [],
   "source": [
    "tables = camelot.read_pdf(\"south_carolina1.pdf\")"
   ]
  },
  {
   "cell_type": "code",
   "execution_count": 3,
   "id": "27dc62ca",
   "metadata": {},
   "outputs": [],
   "source": [
    "# read in the table\n",
    "south_carolina2 = tables[0].df\n",
    "\n",
    "# fix and set column headers\n",
    "col_names = np.array(south_carolina2.iloc[1])\n",
    "col_names[0], col_names[1], col_names[2], col_names[3], col_names[-1] = (\"System Number\", \"Name\", \n",
    "                                                                         \"Well Name\", \"Sampling Date\", \n",
    "                                                                         \"Observations (n/N, where N=16)\")\n",
    "south_carolina2.columns = col_names\n",
    "\n",
    "# drop unnecessary rows\n",
    "south_carolina2 = south_carolina2.iloc[3:]\n",
    "south_carolina2 = south_carolina2.reset_index(drop = True)"
   ]
  },
  {
   "cell_type": "code",
   "execution_count": 4,
   "id": "6750db83",
   "metadata": {},
   "outputs": [],
   "source": [
    "def fill_blanks(table, col):\n",
    "    # replace any blank spaces with nulls\n",
    "    table[col] = table[col].replace(\"\", None)\n",
    "    # fill blank values with the preceeding value\n",
    "    table[col] = table[col].fillna(method = \"ffill\")"
   ]
  },
  {
   "cell_type": "code",
   "execution_count": 5,
   "id": "ef8e446d",
   "metadata": {},
   "outputs": [],
   "source": [
    "fill_blanks(south_carolina2, \"System Number\")\n",
    "\n",
    "south_carolina2[\"System Number\"].iloc[39:43] = \"SC2620004\"\n",
    "south_carolina2[\"System Number\"].iloc[43:] = \"SC2620009\"\n",
    "\n",
    "fill_blanks(south_carolina2, \"Name\")\n",
    "south_carolina2[\"Name\"] = south_carolina2[\"Name\"].str.replace(\"\\n\", \" \")\n",
    "\n",
    "fill_blanks(south_carolina2, \"Well Name\")"
   ]
  },
  {
   "cell_type": "code",
   "execution_count": 6,
   "id": "99ca097e",
   "metadata": {},
   "outputs": [],
   "source": [
    "south_carolina2.to_csv(\"south_carolina1.csv\")"
   ]
  }
 ],
 "metadata": {
  "kernelspec": {
   "display_name": "Python 3 (ipykernel)",
   "language": "python",
   "name": "python3"
  },
  "language_info": {
   "codemirror_mode": {
    "name": "ipython",
    "version": 3
   },
   "file_extension": ".py",
   "mimetype": "text/x-python",
   "name": "python",
   "nbconvert_exporter": "python",
   "pygments_lexer": "ipython3",
   "version": "3.9.18"
  }
 },
 "nbformat": 4,
 "nbformat_minor": 5
}
