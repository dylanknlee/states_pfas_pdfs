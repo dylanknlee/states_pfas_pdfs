{
 "cells": [
  {
   "cell_type": "code",
   "execution_count": 1,
   "id": "5a8e996d",
   "metadata": {},
   "outputs": [],
   "source": [
    "import pandas as pd\n",
    "import numpy as np\n",
    "import camelot\n",
    "\n",
    "import warnings\n",
    "\n",
    "# Set the warning filter to ignore\n",
    "warnings.filterwarnings(\"ignore\")\n",
    "\n",
    "pd.set_option('display.max_rows', None)  # Show all rows\n",
    "pd.set_option('display.max_columns', None)  # Show all columns"
   ]
  },
  {
   "cell_type": "markdown",
   "id": "a4a7beb8",
   "metadata": {},
   "source": [
    "# Table 1"
   ]
  },
  {
   "cell_type": "code",
   "execution_count": 2,
   "id": "dab61f26",
   "metadata": {},
   "outputs": [],
   "source": [
    "tables = camelot.read_pdf(\"new_mexico1.pdf\", pages = \"all\")"
   ]
  },
  {
   "cell_type": "code",
   "execution_count": 3,
   "id": "017fcf9a",
   "metadata": {},
   "outputs": [],
   "source": [
    "new_mexico1 = tables[0].df\n",
    "new_mexico1 = new_mexico1.replace(\"\\n\", \" \", regex = True)\n",
    "new_mexico1.columns = new_mexico1.iloc[1]\n",
    "new_mexico1 = new_mexico1.drop([0,1]).reset_index(drop = True)\n",
    "num_rows = new_mexico1.shape[0]\n",
    "new_mexico1[\"Sample Location\"] = [\"North Freeman Avenue, Artesia, New Mexico\"]*num_rows\n",
    "new_mexico1[\"Sample Date\"] = [\"09/2022\"]*num_rows\n",
    "new_mexico1[\"EPA ID\"] = [\"NMN000605615\"]*num_rows\n",
    "new_mexico1.to_csv(\"new_mexico1.csv\")"
   ]
  },
  {
   "cell_type": "markdown",
   "id": "100e351f",
   "metadata": {},
   "source": [
    "# Table 2 "
   ]
  },
  {
   "cell_type": "code",
   "execution_count": 4,
   "id": "2edfa474",
   "metadata": {},
   "outputs": [],
   "source": [
    "tables2 = camelot.read_pdf(\"new_mexico2.pdf\", flavor = \"stream\", pages = \"all\")"
   ]
  },
  {
   "cell_type": "code",
   "execution_count": 5,
   "id": "3c5f60b2",
   "metadata": {},
   "outputs": [],
   "source": [
    "def clean_tables(table):\n",
    "    # set the columns of the table\n",
    "    table.columns = [\"Analyte\", \"Result\", \"Qualifier\", \"RL\", \"MDL\", \"Units\", \n",
    "                     \"Dil Fac\", \"Method\", \"Prep Type\", \"drop\"]\n",
    "    \n",
    "    # drop the last column\n",
    "    table.drop(columns=\"drop\", inplace = True)\n",
    "    \n",
    "    # add the sample id to each row\n",
    "    sample_id = pd.Series()\n",
    "    \n",
    "    for idx, value in table[\"Method\"].items():\n",
    "        if \"Lab Sample ID:\" in value:\n",
    "            sample_id[idx] = value.split(\":\")[1]\n",
    "        else:\n",
    "            sample_id[idx] = None\n",
    "    sample_id = sample_id.fillna(method = \"ffill\")\n",
    "    \n",
    "    table[\"Sample ID\"] = sample_id\n",
    "    \n",
    "    # drop any row without a numerical result\n",
    "    table['Result'] = pd.to_numeric(table['Result'], errors='coerce')\n",
    "    table = table.dropna(subset=['Result']).reset_index(drop = True)\n",
    "    return table"
   ]
  },
  {
   "cell_type": "markdown",
   "id": "5424c98d",
   "metadata": {},
   "source": [
    "## Page 1"
   ]
  },
  {
   "cell_type": "code",
   "execution_count": 6,
   "id": "980dd4f0",
   "metadata": {
    "scrolled": false
   },
   "outputs": [],
   "source": [
    "# only care about lab sample id\n",
    "table1 = tables2[0].df\n",
    "table1 = clean_tables(table1)\n",
    "table1[\"Qualifier\"] = table1[\"Qualifier\"].replace(\"\", None)"
   ]
  },
  {
   "cell_type": "markdown",
   "id": "88f6b21a",
   "metadata": {},
   "source": [
    "## Page 2"
   ]
  },
  {
   "cell_type": "code",
   "execution_count": 7,
   "id": "07426de2",
   "metadata": {},
   "outputs": [],
   "source": [
    "table2 = tables2[2].df\n",
    "\n",
    "# split col 1 into two columns\n",
    "split_text = table2[1].str.replace(\"\\n\", \" \", regex = True).str.split(\" \")\n",
    "result_col = split_text.apply(lambda x: x[0])\n",
    "qualifier_col = split_text.apply(lambda x: x[1] if len(x) == 2 else None)\n",
    "\n",
    "new_column_names = {i: i + 1 for i in range(2, 9)}\n",
    "table2.rename(columns=new_column_names, inplace=True)\n",
    "\n",
    "table2[1] = result_col\n",
    "table2[2] = qualifier_col\n",
    "table2 = table2[list(range(0,10))]\n",
    "\n",
    "table2 = clean_tables(table2)\n",
    "table2[\"Method\"] = table2[\"Method\"].str.split(\"\\n\").apply(lambda x: x[0] if len(x) == 1 else x[1])"
   ]
  },
  {
   "cell_type": "markdown",
   "id": "4777b04a",
   "metadata": {},
   "source": [
    "## Page 3"
   ]
  },
  {
   "cell_type": "code",
   "execution_count": 8,
   "id": "1415626a",
   "metadata": {},
   "outputs": [],
   "source": [
    "table3 = tables2[3].df\n",
    "\n",
    "table3.iloc[1, 8] = table3.iloc[1,7]\n",
    "table3.iloc[22, 8] = table3.iloc[22, 7]\n",
    "table3.drop(columns = [7], inplace = True)\n",
    "\n",
    "table3 = clean_tables(table3)\n",
    "table3[\"Analyte\"] = table3[\"Analyte\"].str.replace(\"-\", \"\", regex = True)\n",
    "table3[\"Analyte\"] = table3[\"Analyte\"].str.replace(\"Nmethylperfluorooctanesulfonamidoa\", \"NMeFOSAA\", regex = True)\n",
    "table3[\"Analyte\"] = table3[\"Analyte\"].str.replace(\"Nethylperfluorooctanesulfonamidoac\", \"NEtFOSAA\", regex = True)\n",
    "table3[\"Qualifier\"] = table3[\"Qualifier\"].replace(\"\", None)"
   ]
  },
  {
   "cell_type": "markdown",
   "id": "0aaa83ae",
   "metadata": {},
   "source": [
    "## Page 4"
   ]
  },
  {
   "cell_type": "code",
   "execution_count": 9,
   "id": "9e1e5bb5",
   "metadata": {},
   "outputs": [],
   "source": [
    "table4 = tables2[4].df\n",
    "table4.iloc[1, 8] = table4.iloc[1, 7]\n",
    "table4.iloc[38, 8] = table4.iloc[38, 7]\n",
    "table4.iloc[40, 8] = table4.iloc[40, 7]\n",
    "table4.iloc[51, 8] = table4.iloc[51, 7]\n",
    "table4.drop(columns = [7], inplace = True)\n",
    "table4 = clean_tables(table4)\n",
    "table4[\"Analyte\"] = table4[\"Analyte\"].str.replace(\"-\", \"\", regex = True)\n",
    "table4[\"Analyte\"] = table4[\"Analyte\"].str.replace(\"Nmethylperfluorooctanesulfonamidoa\", \"NMeFOSAA\", regex = True)\n",
    "table4[\"Analyte\"] = table4[\"Analyte\"].str.replace(\"Nethylperfluorooctanesulfonamidoac\", \"NEtFOSAA\", regex = True)\n",
    "table4.loc[36] = {'Analyte': 'No Detections', 'Result': None, 'Qualifier': None, 'RL': None, 'MDL': None, 'Units': None,\n",
    "                  'Dil Fac': None, 'Method': None, 'Prep Type': None, 'Sample ID': '320-66162-13'}"
   ]
  },
  {
   "cell_type": "markdown",
   "id": "4b1560b5",
   "metadata": {},
   "source": [
    "## Page 5"
   ]
  },
  {
   "cell_type": "code",
   "execution_count": 10,
   "id": "351a9adb",
   "metadata": {},
   "outputs": [],
   "source": [
    "table5 = tables2[5].df\n",
    "\n",
    "# split col 1 into two columns\n",
    "split_text = table5[1].str.replace(\"\\n\", \" \", regex = True).str.split(\" \")\n",
    "result_col = split_text.apply(lambda x: x[0])\n",
    "qualifier_col = split_text.apply(lambda x: x[1] if len(x) == 2 else None)\n",
    "\n",
    "new_column_names = {i: i + 1 for i in range(2, 9)}\n",
    "table5.rename(columns=new_column_names, inplace=True)\n",
    "\n",
    "table5[1] = result_col\n",
    "table5[2] = qualifier_col\n",
    "table5 = table5[list(range(0,10))]\n",
    "\n",
    "table5 = clean_tables(table5)"
   ]
  },
  {
   "cell_type": "markdown",
   "id": "995b51e6",
   "metadata": {},
   "source": [
    "## Page 6"
   ]
  },
  {
   "cell_type": "code",
   "execution_count": 11,
   "id": "f122d0fc",
   "metadata": {},
   "outputs": [],
   "source": [
    "# last table to use (ignore table)\n",
    "table6 = tables2[7].df\n",
    "\n",
    "# split col 1 into two columns\n",
    "split_text = table6[1].str.replace(\"\\n\", \" \", regex = True).str.split(\" \")\n",
    "result_col = split_text.apply(lambda x: x[0])\n",
    "qualifier_col = split_text.apply(lambda x: x[1] if len(x) == 2 else None)\n",
    "\n",
    "new_column_names = {i: i + 1 for i in range(2, 9)}\n",
    "table6.rename(columns=new_column_names, inplace=True)\n",
    "\n",
    "table6[1] = result_col\n",
    "table6[2] = qualifier_col\n",
    "table6 = table6[list(range(0,10))]\n",
    "\n",
    "table6 = clean_tables(table6)\n",
    "table6.loc[26] = {'Analyte': 'No Detections', 'Result': None, 'Qualifier': None, 'RL': None, 'MDL': None, 'Units': None,\n",
    "                  'Dil Fac': None, 'Method': None, 'Prep Type': None, 'Sample ID': '320-66162-20'}"
   ]
  },
  {
   "cell_type": "code",
   "execution_count": 12,
   "id": "f3ca11d2",
   "metadata": {},
   "outputs": [],
   "source": [
    "new_mexico2 = pd.concat([table1, table2, table3, table4, table5, table6], ignore_index=True)\n",
    "new_mexico2[\"sorting_index\"] = new_mexico2[\"Sample ID\"].str.split(\"-\").apply(lambda x: int(x[2]))\n",
    "new_mexico2 = new_mexico2.sort_values(by = \"sorting_index\", ascending = True).reset_index(drop = True)\n",
    "new_mexico2 = new_mexico2.drop(columns = \"sorting_index\")\n",
    "new_mexico2.to_csv(\"new_mexico2.csv\")"
   ]
  }
 ],
 "metadata": {
  "kernelspec": {
   "display_name": "Python 3 (ipykernel)",
   "language": "python",
   "name": "python3"
  },
  "language_info": {
   "codemirror_mode": {
    "name": "ipython",
    "version": 3
   },
   "file_extension": ".py",
   "mimetype": "text/x-python",
   "name": "python",
   "nbconvert_exporter": "python",
   "pygments_lexer": "ipython3",
   "version": "3.9.18"
  }
 },
 "nbformat": 4,
 "nbformat_minor": 5
}
